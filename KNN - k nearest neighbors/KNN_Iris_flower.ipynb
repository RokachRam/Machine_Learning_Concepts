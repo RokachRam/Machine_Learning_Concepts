{
 "cells": [
  {
   "cell_type": "markdown",
   "metadata": {},
   "source": [
    "# Full implemetation of KNN in Python"
   ]
  },
  {
   "cell_type": "code",
   "execution_count": 21,
   "metadata": {},
   "outputs": [],
   "source": [
    "import numpy as np\n",
    "from numpy import *\n",
    "\n",
    "def LoadIrisData(fname):\n",
    "    \n",
    "    # read the features data from the csv file\n",
    "    X = np.loadtxt(fname,dtype=float, delimiter=',', skiprows = 1,usecols=[1,2,3,4])\n",
    "\n",
    "    # read the labels data from the csv file\n",
    "    Y = np.loadtxt(fname,dtype=str, delimiter=',', skiprows = 1,usecols=[5])\n",
    "    \n",
    "    return X, Y"
   ]
  },
  {
   "cell_type": "code",
   "execution_count": 22,
   "metadata": {},
   "outputs": [],
   "source": [
    "from numpy.random import randint\n",
    "def SplitTrainTest(X,Y):\n",
    "    \n",
    "    # permute the ordering of the examples\n",
    "    ind = np.random.permutation(len(Y))\n",
    "\n",
    "    # choose the size of the training data\n",
    "    Ntrain = 80 \n",
    "\n",
    "    # split the data into train and test datasets\n",
    "    X_train = X[ind[:Ntrain]]\n",
    "    Y_train = Y[ind[:Ntrain]]\n",
    "    X_test  = X[ind[Ntrain:]]\n",
    "    Y_test  = Y[ind[Ntrain:]]\n",
    "    \n",
    "    return X_train, Y_train, X_test, Y_test"
   ]
  },
  {
   "cell_type": "code",
   "execution_count": 23,
   "metadata": {},
   "outputs": [],
   "source": [
    "def PairwiseDistance(a,b):\n",
    "\n",
    "    return linalg.norm(a-b)\n"
   ]
  },
  {
   "cell_type": "code",
   "execution_count": 24,
   "metadata": {},
   "outputs": [],
   "source": [
    "def SortArray(a):\n",
    "    \n",
    "    return argsort(a) \n"
   ]
  },
  {
   "cell_type": "code",
   "execution_count": 25,
   "metadata": {},
   "outputs": [],
   "source": [
    "def MajorityVote(inds,y,K):\n",
    "    \n",
    "    # the labels of the K nearest neighbors\n",
    "    y_sorted_by_inds_k_neighbors = y[inds][0:K]\n",
    "    # print(argmax(y_sorted_by_inds_k_neighbors))\n",
    "       \n",
    "    # counting the number occurences of each label amongst the K nearest neighbors\n",
    "    uniqueVals, uniqueValsCounts = unique(y_sorted_by_inds_k_neighbors, return_counts=True)\n",
    "    return uniqueVals[uniqueValsCounts.argmax()]\n",
    "    # the most frequent label amongst the K nearest neighbors\n",
    "    "
   ]
  },
  {
   "cell_type": "code",
   "execution_count": 26,
   "metadata": {},
   "outputs": [],
   "source": [
    "def KNearestNeighborsClassifier(X_train, Y_train , X_test, K):\n",
    "    \n",
    "    Y_pred = []\n",
    "    d=[]\n",
    "    # loop through the examples to be classified\n",
    "    for sample in X_test:\n",
    "        for x in X_train:\n",
    "            d.append(PairwiseDistance(sample,x))\n",
    "        Y_pred.append(MajorityVote(SortArray(d),Y_train, K))\n",
    "        d=[]\n",
    "\n",
    "    return Y_pred"
   ]
  },
  {
   "cell_type": "code",
   "execution_count": 27,
   "metadata": {},
   "outputs": [],
   "source": [
    "import matplotlib.pyplot as plt\n",
    "\n",
    "def PlotAccuracy(accuracy):\n",
    "\n",
    "    plt.figure(figsize=(14,5))\n",
    "    plt.plot(accuracy,'.-')\n",
    "    plt.xlabel('K')\n",
    "    plt.ylabel('Accuracy')\n",
    "    plt.title('KNN estimated accuracy for various values of K');\n",
    "    return"
   ]
  },
  {
   "cell_type": "code",
   "execution_count": 28,
   "metadata": {},
   "outputs": [],
   "source": [
    "def Accuracy(Y_pred, Y_test):\n",
    "\n",
    "    counter = 0\n",
    "    for index, yp in enumerate(Y_pred):\n",
    "        if Y_test[index] == yp:\n",
    "            counter+=1    \n",
    "\n",
    "    return counter/len(Y_pred)"
   ]
  },
  {
   "cell_type": "code",
   "execution_count": 29,
   "metadata": {},
   "outputs": [],
   "source": [
    "def main(fname, Kmax):\n",
    "   \n",
    "    # STEP 1: load data\n",
    "    X,Y = LoadIrisData(fname)\n",
    "    \n",
    "    # STEP 2: split the data into train/test datasets\n",
    "    X_train, Y_train, X_test, Y_test = SplitTrainTest(X,Y)\n",
    "    print('Data is split into ' + str(X_train.shape[0]) + ' examples for training and ' + str(X_test.shape[0]) + ' examples for testing')\n",
    "    \n",
    "    # an array to store all computed accuracies\n",
    "    accuracy = np.zeros(Kmax)\n",
    "    \n",
    "    # repeat for all considered values of K\n",
    "    for K in range(Kmax):\n",
    "        # STEP 3: classify the test data using a KNN classifier\n",
    "        Y_pred = KNearestNeighborsClassifier(X_train, Y_train, X_test , K+1)\n",
    "\n",
    "        # STEP 4: calculate the KNN classifier accuracy\n",
    "        accuracy[K] = Accuracy(Y_pred, Y_test)\n",
    "        \n",
    "    # plot results\n",
    "    PlotAccuracy(accuracy)\n",
    "    return"
   ]
  },
  {
   "cell_type": "code",
   "execution_count": 30,
   "metadata": {
    "id": "GcRIsEmmoxeL"
   },
   "outputs": [
    {
     "name": "stdout",
     "output_type": "stream",
     "text": [
      "Data is split into 80 examples for training and 70 examples for testing\n"
     ]
    },
    {
     "data": {
      "image/png": "[encoded data removed]",
      "text/plain": [
       "<Figure size 1008x360 with 1 Axes>"
      ]
     },
     "metadata": {
      "needs_background": "light"
     },
     "output_type": "display_data"
    }
   ],
   "source": [
    "fname = 'iris.csv'\n",
    "Kmax = 100\n",
    "main(fname, Kmax)"
   ]
  },
  {
   "cell_type": "markdown",
   "metadata": {},
   "source": [
    "Explanation about the graph above: \n",
    "According to the Iris.csv, we can see that there are equal amounts of each class (type of flower), so we expect that with K growing - the accuracy will decrease since it is no longer calculating by distance logic, but by majority. We can also see that there are two sharp decreases with accuracy when the threshold reaches a point where the majority mechanism kicks in (50, 80).\n",
    "When K is within [80:100] we can see an accuracy of 0.3. this is expected since the data is divided to 3 classes (150 instances)"
   ]
  },
  {
   "cell_type": "code",
   "execution_count": 31,
   "metadata": {},
   "outputs": [],
   "source": [
    "def SplitTrainTestDinamcly(X,Y,n):\n",
    "\n",
    "    # permute the ordering of the examples\n",
    "    ind = np.random.permutation(len(Y))\n",
    "\n",
    "    # choose the size of the training data\n",
    "    Ntrain = n \n",
    "\n",
    "    # split the data into train and test datasets\n",
    "    X_train = X[ind[:n]]\n",
    "    Y_train = Y[ind[:n]]\n",
    "    X_test  = X[ind[n:]]\n",
    "    Y_test  = Y[ind[n:]]\n",
    "    \n",
    "    return X_train, Y_train, X_test, Y_test\n",
    "    "
   ]
  },
  {
   "cell_type": "code",
   "execution_count": 32,
   "metadata": {},
   "outputs": [],
   "source": [
    "def averageMatrix(matrix):\n",
    "\n",
    "    avgs=[]\n",
    "    for k in matrix:\n",
    "        avgs.append(sum(matrix[k])/len(matrix[k]))\n",
    "        \n",
    "    return avgs"
   ]
  },
  {
   "cell_type": "code",
   "execution_count": 33,
   "metadata": {},
   "outputs": [],
   "source": [
    "def optimal_k(fname,Kmax):\n",
    "    kmax_matrix_accuracies = {}\n",
    "    # STEP 1: load data\n",
    "    X,Y = LoadIrisData(fname)\n",
    "    for n in range(20,120):\n",
    "        X_train, Y_train, X_test, Y_test = SplitTrainTestDinamcly(X,Y,n)\n",
    "        # an array to store all computed accuracies\n",
    "        accuracy = np.zeros(Kmax)\n",
    "        # repeat for all considered values of K\n",
    "        for K in range(Kmax):\n",
    "            if K not in kmax_matrix_accuracies:\n",
    "                kmax_matrix_accuracies[K]=[]\n",
    "        # STEP 3: classify the test data using a KNN classifier\n",
    "            Y_pred = KNearestNeighborsClassifier(X_train, Y_train, X_test , K+1)\n",
    "\n",
    "        # STEP 4: calculate the KNN classifier accuracy\n",
    "            accuracy[K] = Accuracy(Y_pred, Y_test)\n",
    "            kmax_matrix_accuracies[K].append(accuracy[K])\n",
    "    PlotAccuracy(averageMatrix(kmax_matrix_accuracies))"
   ]
  },
  {
   "cell_type": "code",
   "execution_count": 34,
   "metadata": {},
   "outputs": [
    {
     "data": {
      "image/png": "[encoded data removed]",
      "text/plain": [
       "<Figure size 1008x360 with 1 Axes>"
      ]
     },
     "metadata": {
      "needs_background": "light"
     },
     "output_type": "display_data"
    }
   ],
   "source": [
    "fname = 'iris.csv'\n",
    "Kmax = 100\n",
    "optimal_k(fname,Kmax)\n",
    "\n"
   ]
  },
  {
   "cell_type": "markdown",
   "metadata": {},
   "source": [
    "Explanation of the graph above and deriving a conclusion of optimal K:\n",
    "\n",
    "Just like the previous graph above, we expect the overall accuracy to decrease as K grows, since it is no longer calculating according to distances.\n",
    "If we could choose an optimal K that would calculate new data correctly, we would choose K = [8 , 9 , 10]\n",
    "According to the graph, those Ks will be reliable enough to distinguish false \"unexpected\" data points on the one hand, and will take enough data under concideration on the other hand"
   ]
  }
 ],
 "metadata": {
  "colab": {
   "authorship_tag": "ABX9TyNFWcR00QMcUKz4KlNYvrGT",
   "collapsed_sections": [],
   "name": "My KNN with iris.ipynb",
   "private_outputs": true,
   "provenance": []
  },
  "kernelspec": {
   "display_name": "Python 3 (ipykernel)",
   "language": "python",
   "name": "python3"
  },
  "language_info": {
   "codemirror_mode": {
    "name": "ipython",
    "version": 3
   },
   "file_extension": ".py",
   "mimetype": "text/x-python",
   "name": "python",
   "nbconvert_exporter": "python",
   "pygments_lexer": "ipython3",
   "version": "3.9.7"
  },
  "toc": {
   "base_numbering": 1,
   "nav_menu": {},
   "number_sections": false,
   "sideBar": true,
   "skip_h1_title": true,
   "title_cell": "Table of Contents",
   "title_sidebar": "Contents",
   "toc_cell": false,
   "toc_position": {
    "height": "calc(100% - 180px)",
    "left": "10px",
    "top": "150px",
    "width": "165px"
   },
   "toc_section_display": true,
   "toc_window_display": false
  }
 },
 "nbformat": 4,
 "nbformat_minor": 1
}
